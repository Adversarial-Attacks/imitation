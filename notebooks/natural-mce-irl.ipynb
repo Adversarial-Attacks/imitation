{
 "cells": [
  {
   "cell_type": "markdown",
   "metadata": {},
   "source": [
    "# Experiments with natural gradient, constrained optimisation, and MCE IRL\n",
    "\n",
    "This notebook contains the source for Sam's EE227C project. The aim is to apply (efficiently, somehow) natural gradient learning to maximum causal entropy IRL."
   ]
  },
  {
   "cell_type": "code",
   "execution_count": 7,
   "metadata": {},
   "outputs": [
    {
     "name": "stdout",
     "output_type": "stream",
     "text": [
      "The autoreload extension is already loaded. To reload it, use:\n",
      "  %reload_ext autoreload\n"
     ]
    }
   ],
   "source": [
    "%matplotlib inline\n",
    "%load_ext autoreload\n",
    "%autoreload 2\n",
    "\n",
    "import numpy as np\n",
    "import seaborn as sns\n",
    "import pandas as pd\n",
    "import matplotlib.pyplot as plt\n",
    "import scipy\n",
    "\n",
    "import imitation.tabular_irl as tirl\n",
    "import imitation.model_env as menv\n",
    "\n",
    "sns.set(context='notebook', style='darkgrid')"
   ]
  },
  {
   "cell_type": "code",
   "execution_count": 8,
   "metadata": {},
   "outputs": [
    {
     "data": {
      "image/png": "[encoded data removed]",
      "text/plain": [
       "<Figure size 432x288 with 1 Axes>"
      ]
     },
     "metadata": {},
     "output_type": "display_data"
    }
   ],
   "source": [
    "x = np.linspace(-10, 10, 100)\n",
    "y = np.sin(x)\n",
    "sns.lineplot(x=x, y=y)\n",
    "plt.show()"
   ]
  },
  {
   "cell_type": "code",
   "execution_count": 114,
   "metadata": {},
   "outputs": [],
   "source": [
    "mdp = menv.RandomMDP(\n",
    "    n_states=16,\n",
    "    n_actions=3,\n",
    "    branch_factor=2,\n",
    "    horizon=20,\n",
    "    random_obs=True,\n",
    "    obs_dim=5,\n",
    "    generator_seed=42)\n",
    "V, Q, pi = tirl.mce_partition_fh(mdp)\n",
    "Dt, D = tirl.mce_occupancy_measures(mdp, pi=pi)\n",
    "demo_counts = D @ mdp.observation_matrix\n",
    "init_weights = np.random.randn(*demo_counts.shape)\n",
    "# opt = tirl.AMSGrad(init_weights, alpha=0.1)\n",
    "# final_weights, final_counts = tirl.maxent_irl(\n",
    "#     mdp, opt, demo_counts, linf_eps=1e-4)\n",
    "# print('Final 2-norm of feature count differences:', np.linalg.norm(final_counts - demo_counts))\n",
    "# print('Final 2-dist in recovered weights & real ones:', np.linalg.norm(final_weights - mdp._reward_weights))"
   ]
  },
  {
   "cell_type": "code",
   "execution_count": 115,
   "metadata": {},
   "outputs": [
    {
     "name": "stdout",
     "output_type": "stream",
     "text": [
      "Feature count error@iter   0: 19.757751 (||params||=1.755062, ||grad||=27.852049, ||fcount||=21.798477, ||step||=2.974122)\n",
      "Feature count error@iter  10: 8.632837 (||params||=0.660626, ||grad||=12.610677, ||fcount||=17.411069, ||step||=0.467708)\n",
      "Feature count error@iter  20: 4.416367 (||params||=0.561158, ||grad||=6.206724, ||fcount||=18.676139, ||step||=0.404367)\n",
      "Feature count error@iter  30: 2.237201 (||params||=0.604432, ||grad||=3.268211, ||fcount||=19.353659, ||step||=0.233039)\n",
      "Feature count error@iter  40: 1.203868 (||params||=0.688621, ||grad||=1.779320, ||fcount||=19.893479, ||step||=0.107477)\n",
      "Feature count error@iter  50: 0.718617 (||params||=0.765815, ||grad||=1.009782, ||fcount||=20.193270, ||step||=0.045760)\n",
      "Feature count error@iter  60: 0.421176 (||params||=0.812763, ||grad||=0.603318, ||fcount||=20.399309, ||step||=0.041348)\n",
      "Feature count error@iter  70: 0.239954 (||params||=0.843844, ||grad||=0.385524, ||fcount||=20.535028, ||step||=0.028899)\n",
      "Feature count error@iter  80: 0.147103 (||params||=0.865504, ||grad||=0.239044, ||fcount||=20.595287, ||step||=0.015428)\n",
      "Feature count error@iter  90: 0.087567 (||params||=0.878933, ||grad||=0.149479, ||fcount||=20.634499, ||step||=0.009330)\n",
      "Feature count error@iter  100: 0.058907 (||params||=0.887450, ||grad||=0.095104, ||fcount||=20.649155, ||step||=0.006652)\n",
      "Feature count error@iter  110: 0.040878 (||params||=0.893340, ||grad||=0.060832, ||fcount||=20.658619, ||step||=0.008358)\n",
      "Feature count error@iter  120: 0.024595 (||params||=0.897397, ||grad||=0.036840, ||fcount||=20.669841, ||step||=0.005084)\n",
      "Feature count error@iter  130: 0.014190 (||params||=0.900140, ||grad||=0.022577, ||fcount||=20.677107, ||step||=0.002151)\n",
      "Feature count error@iter  140: 0.008901 (||params||=0.902019, ||grad||=0.014106, ||fcount||=20.680657, ||step||=0.001749)\n",
      "Feature count error@iter  150: 0.006153 (||params||=0.903061, ||grad||=0.009970, ||fcount||=20.682855, ||step||=0.002059)\n",
      "Feature count error@iter  160: 0.003744 (||params||=0.903895, ||grad||=0.006512, ||fcount||=20.684648, ||step||=0.001063)\n",
      "Feature count error@iter  170: 0.002296 (||params||=0.904453, ||grad||=0.003912, ||fcount||=20.685753, ||step||=0.000949)\n",
      "Feature count error@iter  180: 0.001517 (||params||=0.904813, ||grad||=0.002590, ||fcount||=20.686389, ||step||=0.000623)\n",
      "Feature count error@iter  190: 0.001121 (||params||=0.905047, ||grad||=0.001748, ||fcount||=20.686814, ||step||=0.000259)\n",
      "Feature count error@iter  200: 0.000810 (||params||=0.905190, ||grad||=0.001206, ||fcount||=20.687050, ||step||=0.000261)\n",
      "Feature count error@iter  210: 0.000533 (||params||=0.905297, ||grad||=0.000825, ||fcount||=20.687146, ||step||=0.000128)\n",
      "Feature count error@iter  220: 0.000344 (||params||=0.905378, ||grad||=0.000507, ||fcount||=20.687201, ||step||=0.000131)\n",
      "Feature count error@iter  230: 0.000222 (||params||=0.905430, ||grad||=0.000319, ||fcount||=20.687246, ||step||=0.000083)\n",
      "Feature count error@iter  240: 0.000156 (||params||=0.905464, ||grad||=0.000222, ||fcount||=20.687303, ||step||=0.000062)\n",
      "Feature count error@iter  250: 0.000113 (||params||=0.905488, ||grad||=0.000154, ||fcount||=20.687334, ||step||=0.000024)\n"
     ]
    }
   ],
   "source": [
    "opt = tirl.SGD(init_weights, alpha=0.1)\n",
    "final_weights, final_counts = tirl.maxent_irl_ng(\n",
    "    mdp, opt, demo_counts, linf_eps=1e-4)"
   ]
  },
  {
   "cell_type": "code",
   "execution_count": 135,
   "metadata": {},
   "outputs": [
    {
     "name": "stdout",
     "output_type": "stream",
     "text": [
      "Feature count error@iter   0: 19.757751 (||params||=1.755062, ||grad||=27.852049, ||fcount||=21.798477, ||step||=3.358108)\n",
      "Feature count error@iter  10: 0.003418 (||params||=0.903901, ||grad||=0.004559, ||fcount||=20.686474, ||step||=0.001456)\n",
      "Feature count error@iter  20: 0.000086 (||params||=0.905509, ||grad||=0.000116, ||fcount||=20.687383, ||step||=0.000021)\n"
     ]
    }
   ],
   "source": [
    "opt = tirl.SGD(init_weights, alpha=1)\n",
    "final_weights, final_counts = tirl.maxent_irl_ng(\n",
    "    mdp, opt, demo_counts, linf_eps=1e-4)"
   ]
  },
  {
   "cell_type": "code",
   "execution_count": 123,
   "metadata": {},
   "outputs": [
    {
     "name": "stdout",
     "output_type": "stream",
     "text": [
      "Feature count error@iter   0: 19.757751 (||params||=1.755062, ||grad||=27.852049, ||fcount||=21.798477)\n",
      "Feature count error@iter  10: 1.402962 (||params||=0.955278, ||grad||=2.153202, ||fcount||=19.596933)\n",
      "Feature count error@iter  20: 0.495535 (||params||=0.888911, ||grad||=0.712016, ||fcount||=20.350013)\n",
      "Feature count error@iter  30: 0.365933 (||params||=0.851637, ||grad||=0.463687, ||fcount||=20.490907)\n",
      "Feature count error@iter  40: 0.290692 (||params||=0.837765, ||grad||=0.354749, ||fcount||=20.537042)\n",
      "Feature count error@iter  50: 0.234167 (||params||=0.837089, ||grad||=0.281940, ||fcount||=20.565882)\n",
      "Feature count error@iter  60: 0.188935 (||params||=0.842405, ||grad||=0.226504, ||fcount||=20.588551)\n",
      "Feature count error@iter  70: 0.152438 (||params||=0.849925, ||grad||=0.182536, ||fcount||=20.607033)\n",
      "Feature count error@iter  80: 0.122994 (||params||=0.857825, ||grad||=0.147251, ||fcount||=20.622133)\n",
      "Feature count error@iter  90: 0.099250 (||params||=0.865274, ||grad||=0.118837, ||fcount||=20.634447)\n",
      "Feature count error@iter  100: 0.080104 (||params||=0.871932, ||grad||=0.095929, ||fcount||=20.644471)\n",
      "Feature count error@iter  110: 0.064664 (||params||=0.877705, ||grad||=0.077452, ||fcount||=20.652618)\n",
      "Feature count error@iter  120: 0.052209 (||params||=0.882615, ||grad||=0.062543, ||fcount||=20.659232)\n",
      "Feature count error@iter  130: 0.042159 (||params||=0.886737, ||grad||=0.050510, ||fcount||=20.664597)\n",
      "Feature count error@iter  140: 0.034047 (||params||=0.890167, ||grad||=0.040797, ||fcount||=20.668945)\n",
      "Feature count error@iter  150: 0.027500 (||params||=0.893001, ||grad||=0.032954, ||fcount||=20.672467)\n",
      "Feature count error@iter  160: 0.022213 (||params||=0.895332, ||grad||=0.026621, ||fcount||=20.675318)\n",
      "Feature count error@iter  170: 0.017944 (||params||=0.897242, ||grad||=0.021506, ||fcount||=20.677625)\n",
      "Feature count error@iter  180: 0.014497 (||params||=0.898802, ||grad||=0.017375, ||fcount||=20.679492)\n",
      "Feature count error@iter  190: 0.011712 (||params||=0.900073, ||grad||=0.014038, ||fcount||=20.681002)\n",
      "Feature count error@iter  200: 0.009463 (||params||=0.901108, ||grad||=0.011342, ||fcount||=20.682223)\n",
      "Feature count error@iter  210: 0.007646 (||params||=0.901949, ||grad||=0.009164, ||fcount||=20.683210)\n",
      "Feature count error@iter  220: 0.006178 (||params||=0.902632, ||grad||=0.007405, ||fcount||=20.684009)\n",
      "Feature count error@iter  230: 0.004992 (||params||=0.903185, ||grad||=0.005983, ||fcount||=20.684654)\n",
      "Feature count error@iter  240: 0.004033 (||params||=0.903634, ||grad||=0.004835, ||fcount||=20.685176)\n",
      "Feature count error@iter  250: 0.003259 (||params||=0.903997, ||grad||=0.003907, ||fcount||=20.685597)\n",
      "Feature count error@iter  260: 0.002633 (||params||=0.904291, ||grad||=0.003157, ||fcount||=20.685938)\n",
      "Feature count error@iter  270: 0.002128 (||params||=0.904529, ||grad||=0.002551, ||fcount||=20.686214)\n",
      "Feature count error@iter  280: 0.001719 (||params||=0.904722, ||grad||=0.002061, ||fcount||=20.686436)\n",
      "Feature count error@iter  290: 0.001389 (||params||=0.904877, ||grad||=0.001666, ||fcount||=20.686616)\n",
      "Feature count error@iter  300: 0.001123 (||params||=0.905003, ||grad||=0.001346, ||fcount||=20.686761)\n",
      "Feature count error@iter  310: 0.000907 (||params||=0.905105, ||grad||=0.001088, ||fcount||=20.686879)\n",
      "Feature count error@iter  320: 0.000733 (||params||=0.905188, ||grad||=0.000879, ||fcount||=20.686974)\n",
      "Feature count error@iter  330: 0.000592 (||params||=0.905254, ||grad||=0.000710, ||fcount||=20.687051)\n",
      "Feature count error@iter  340: 0.000479 (||params||=0.905308, ||grad||=0.000574, ||fcount||=20.687113)\n",
      "Feature count error@iter  350: 0.000387 (||params||=0.905351, ||grad||=0.000464, ||fcount||=20.687163)\n",
      "Feature count error@iter  360: 0.000313 (||params||=0.905387, ||grad||=0.000375, ||fcount||=20.687203)\n",
      "Feature count error@iter  370: 0.000253 (||params||=0.905415, ||grad||=0.000303, ||fcount||=20.687236)\n",
      "Feature count error@iter  380: 0.000204 (||params||=0.905438, ||grad||=0.000245, ||fcount||=20.687262)\n",
      "Feature count error@iter  390: 0.000165 (||params||=0.905456, ||grad||=0.000198, ||fcount||=20.687284)\n",
      "Feature count error@iter  400: 0.000133 (||params||=0.905471, ||grad||=0.000160, ||fcount||=20.687301)\n",
      "Feature count error@iter  410: 0.000108 (||params||=0.905484, ||grad||=0.000129, ||fcount||=20.687315)\n"
     ]
    }
   ],
   "source": [
    "opt = tirl.SGD(init_weights, alpha=0.02)\n",
    "final_weights, final_counts = tirl.maxent_irl(\n",
    "    mdp, opt, demo_counts, linf_eps=1e-4)"
   ]
  },
  {
   "cell_type": "code",
   "execution_count": null,
   "metadata": {},
   "outputs": [],
   "source": []
  },
  {
   "cell_type": "code",
   "execution_count": null,
   "metadata": {},
   "outputs": [],
   "source": []
  }
 ],
 "metadata": {
  "kernelspec": {
   "display_name": "Python 3",
   "language": "python",
   "name": "python3"
  },
  "language_info": {
   "codemirror_mode": {
    "name": "ipython",
    "version": 3
   },
   "file_extension": ".py",
   "mimetype": "text/x-python",
   "name": "python",
   "nbconvert_exporter": "python",
   "pygments_lexer": "ipython3",
   "version": "3.6.7"
  }
 },
 "nbformat": 4,
 "nbformat_minor": 2
}
