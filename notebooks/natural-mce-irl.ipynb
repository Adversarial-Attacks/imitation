{
 "cells": [
  {
   "cell_type": "markdown",
   "metadata": {},
   "source": [
    "# Experiments with natural gradient, constrained optimisation, and MCE IRL\n",
    "\n",
    "This notebook contains the source for Sam's EE227C project. The aim is to apply (efficiently, somehow) natural gradient learning to maximum causal entropy IRL."
   ]
  },
  {
   "cell_type": "code",
   "execution_count": null,
   "metadata": {},
   "outputs": [],
   "source": [
    "%matplotlib inline\n",
    "%load_ext autoreload\n",
    "%autoreload 2\n",
    "\n",
    "import numpy as np\n",
    "import seaborn as sns\n",
    "import pandas as pd\n",
    "import matplotlib.pyplot as plt\n",
    "import scipy\n",
    "\n",
    "import imitation.tabular_irl as tirl\n",
    "import imitation.model_env as menv\n",
    "\n",
    "sns.set(context='notebook')"
   ]
  },
  {
   "cell_type": "code",
   "execution_count": null,
   "metadata": {},
   "outputs": [],
   "source": [
    "mdp = menv.RandomMDP(\n",
    "    n_states=16,\n",
    "    n_actions=3,\n",
    "    branch_factor=2,\n",
    "    horizon=20,\n",
    "    random_obs=True,\n",
    "    obs_dim=5,\n",
    "    generator_seed=42)\n",
    "V, Q, pi = tirl.mce_partition_fh(mdp)\n",
    "Dt, D = tirl.mce_occupancy_measures(mdp, pi=pi)\n",
    "demo_counts = D @ mdp.observation_matrix\n",
    "init_weights = np.random.randn(*demo_counts.shape)\n",
    "# opt = tirl.AMSGrad(init_weights, alpha=0.1)\n",
    "# final_weights, final_counts = tirl.maxent_irl(\n",
    "#     mdp, opt, demo_counts, linf_eps=1e-4)\n",
    "# print('Final 2-norm of feature count differences:', np.linalg.norm(final_counts - demo_counts))\n",
    "# print('Final 2-dist in recovered weights & real ones:', np.linalg.norm(final_weights - mdp._reward_weights))"
   ]
  },
  {
   "cell_type": "code",
   "execution_count": null,
   "metadata": {},
   "outputs": [],
   "source": [
    "opt = tirl.SGD(init_weights, alpha=0.1)\n",
    "final_weights, final_counts = tirl.maxent_irl_ng(\n",
    "    mdp, opt, demo_counts, linf_eps=1e-4)"
   ]
  },
  {
   "cell_type": "code",
   "execution_count": null,
   "metadata": {},
   "outputs": [],
   "source": [
    "opt = tirl.SGD(init_weights, alpha=0.5)\n",
    "final_weights, final_counts = tirl.maxent_irl_ng(\n",
    "    mdp, opt, demo_counts, linf_eps=1e-4)"
   ]
  },
  {
   "cell_type": "code",
   "execution_count": null,
   "metadata": {},
   "outputs": [],
   "source": [
    "opt = tirl.SGD(init_weights, alpha=0.02)\n",
    "final_weights, final_counts = tirl.maxent_irl(\n",
    "    mdp, opt, demo_counts, linf_eps=1e-4)"
   ]
  },
  {
   "cell_type": "code",
   "execution_count": null,
   "metadata": {},
   "outputs": [],
   "source": [
    "# Same experiments, but on grid world\n",
    "mdp = menv.CliffWorld(\n",
    "    width=8,\n",
    "    height=6,\n",
    "    horizon=9,\n",
    "    use_xy_obs=True)\n",
    "V, Q, pi = tirl.mce_partition_fh(mdp)\n",
    "Dt, D = tirl.mce_occupancy_measures(mdp, pi=pi)\n",
    "demo_counts = D @ mdp.observation_matrix\n",
    "init_weights = np.random.randn(*demo_counts.shape)\n",
    "opt = tirl.AMSGrad(init_weights, alpha=1)\n",
    "final_weights, final_counts = tirl.maxent_irl(\n",
    "    mdp, opt, demo_counts, linf_eps=1e-4)"
   ]
  },
  {
   "cell_type": "code",
   "execution_count": null,
   "metadata": {},
   "outputs": [],
   "source": [
    "mdp.draw_value_vec(Dt[:9].sum(axis=0))\n",
    "plt.title(\"True occupancy\")\n",
    "plt.show()"
   ]
  },
  {
   "cell_type": "code",
   "execution_count": null,
   "metadata": {},
   "outputs": [],
   "source": [
    "_, _, pi_fake = tirl.mce_partition_fh(mdp, R=mdp.observation_matrix @ final_weights)\n",
    "Dt_fake, D_fake = tirl.mce_occupancy_measures(mdp, pi=pi_fake)\n",
    "mdp.draw_value_vec(Dt_fake[:9].sum(axis=0))\n",
    "plt.title(\"Occupancy for linear reward function\")\n",
    "plt.show()"
   ]
  },
  {
   "cell_type": "code",
   "execution_count": null,
   "metadata": {},
   "outputs": [],
   "source": [
    "final_weights"
   ]
  },
  {
   "cell_type": "code",
   "execution_count": null,
   "metadata": {},
   "outputs": [],
   "source": []
  }
 ],
 "metadata": {
  "kernelspec": {
   "display_name": "Python 3",
   "language": "python",
   "name": "python3"
  },
  "language_info": {
   "codemirror_mode": {
    "name": "ipython",
    "version": 3
   },
   "file_extension": ".py",
   "mimetype": "text/x-python",
   "name": "python",
   "nbconvert_exporter": "python",
   "pygments_lexer": "ipython3",
   "version": "3.6.7"
  }
 },
 "nbformat": 4,
 "nbformat_minor": 2
}
